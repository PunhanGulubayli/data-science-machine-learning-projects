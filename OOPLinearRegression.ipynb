{
 "cells": [
  {
   "cell_type": "code",
   "execution_count": 1,
   "id": "ad9c2cd2-934a-4099-9ead-614800b5b4e5",
   "metadata": {},
   "outputs": [],
   "source": [
    "import pandas as pd\n",
    "import numpy as np\n",
    "import random"
   ]
  },
  {
   "cell_type": "code",
   "execution_count": 2,
   "id": "870c8bc6-61b5-4aac-a3ab-fb766608cab6",
   "metadata": {},
   "outputs": [],
   "source": [
    "df = pd.read_csv('../ML/turboaz - turboaz.csv')"
   ]
  },
  {
   "cell_type": "code",
   "execution_count": 3,
   "id": "f2e8c4eb-57cd-4220-85a6-25579940be4f",
   "metadata": {},
   "outputs": [],
   "source": [
    "df = df[['Yurush', 'Qiymet', 'Buraxilish ili']].copy()"
   ]
  },
  {
   "cell_type": "code",
   "execution_count": 4,
   "id": "8e3929fb-65d9-4a49-8aba-3011ea91b3f9",
   "metadata": {},
   "outputs": [],
   "source": [
    "def convertPrice(col): \n",
    "    words = col.split()\n",
    "    price = int(words[0])\n",
    "\n",
    "    if '$' in col:\n",
    "        price = price *1.7\n",
    "    \n",
    "    return price"
   ]
  },
  {
   "cell_type": "code",
   "execution_count": 5,
   "id": "2268176a-05a3-468b-8b8b-b28ef735200b",
   "metadata": {},
   "outputs": [],
   "source": [
    "def clearYurush (col):\n",
    "    col = col.replace(' ','')[:-2]\n",
    "    return int(col)"
   ]
  },
  {
   "cell_type": "code",
   "execution_count": 6,
   "id": "582b38e9-a15b-47ad-811b-0eef463ef139",
   "metadata": {},
   "outputs": [],
   "source": [
    "df['ActualPrice'] = df['Qiymet'].apply(convertPrice)"
   ]
  },
  {
   "cell_type": "code",
   "execution_count": 7,
   "id": "8cc6111a-3a3d-4621-96a8-1ef7bde6d961",
   "metadata": {},
   "outputs": [],
   "source": [
    "df['ActualYurush'] = df['Yurush'].apply(clearYurush)"
   ]
  },
  {
   "cell_type": "code",
   "execution_count": 8,
   "id": "40e6a2ab-de6f-476f-87a8-215e4cdcddfd",
   "metadata": {},
   "outputs": [],
   "source": [
    "df.drop(['Yurush', 'Qiymet'], axis = 1, inplace =True)"
   ]
  },
  {
   "cell_type": "code",
   "execution_count": 9,
   "id": "77cfff65-7c94-4f4f-b499-2711d349852a",
   "metadata": {},
   "outputs": [
    {
     "data": {
      "text/html": [
       "<div>\n",
       "<style scoped>\n",
       "    .dataframe tbody tr th:only-of-type {\n",
       "        vertical-align: middle;\n",
       "    }\n",
       "\n",
       "    .dataframe tbody tr th {\n",
       "        vertical-align: top;\n",
       "    }\n",
       "\n",
       "    .dataframe thead th {\n",
       "        text-align: right;\n",
       "    }\n",
       "</style>\n",
       "<table border=\"1\" class=\"dataframe\">\n",
       "  <thead>\n",
       "    <tr style=\"text-align: right;\">\n",
       "      <th></th>\n",
       "      <th>Buraxilish ili</th>\n",
       "      <th>ActualPrice</th>\n",
       "      <th>ActualYurush</th>\n",
       "    </tr>\n",
       "  </thead>\n",
       "  <tbody>\n",
       "    <tr>\n",
       "      <th>0</th>\n",
       "      <td>1999</td>\n",
       "      <td>12500.0</td>\n",
       "      <td>366000</td>\n",
       "    </tr>\n",
       "    <tr>\n",
       "      <th>1</th>\n",
       "      <td>2014</td>\n",
       "      <td>53550.0</td>\n",
       "      <td>102000</td>\n",
       "    </tr>\n",
       "    <tr>\n",
       "      <th>2</th>\n",
       "      <td>2002</td>\n",
       "      <td>11700.0</td>\n",
       "      <td>469700</td>\n",
       "    </tr>\n",
       "    <tr>\n",
       "      <th>3</th>\n",
       "      <td>1998</td>\n",
       "      <td>9700.0</td>\n",
       "      <td>556680</td>\n",
       "    </tr>\n",
       "    <tr>\n",
       "      <th>4</th>\n",
       "      <td>2000</td>\n",
       "      <td>12700.0</td>\n",
       "      <td>300000</td>\n",
       "    </tr>\n",
       "    <tr>\n",
       "      <th>...</th>\n",
       "      <td>...</td>\n",
       "      <td>...</td>\n",
       "      <td>...</td>\n",
       "    </tr>\n",
       "    <tr>\n",
       "      <th>1323</th>\n",
       "      <td>1996</td>\n",
       "      <td>8800.0</td>\n",
       "      <td>325000</td>\n",
       "    </tr>\n",
       "    <tr>\n",
       "      <th>1324</th>\n",
       "      <td>1994</td>\n",
       "      <td>6300.0</td>\n",
       "      <td>280000</td>\n",
       "    </tr>\n",
       "    <tr>\n",
       "      <th>1325</th>\n",
       "      <td>1998</td>\n",
       "      <td>10900.0</td>\n",
       "      <td>272000</td>\n",
       "    </tr>\n",
       "    <tr>\n",
       "      <th>1326</th>\n",
       "      <td>2000</td>\n",
       "      <td>11300.0</td>\n",
       "      <td>207000</td>\n",
       "    </tr>\n",
       "    <tr>\n",
       "      <th>1327</th>\n",
       "      <td>1996</td>\n",
       "      <td>10500.0</td>\n",
       "      <td>255700</td>\n",
       "    </tr>\n",
       "  </tbody>\n",
       "</table>\n",
       "<p>1328 rows × 3 columns</p>\n",
       "</div>"
      ],
      "text/plain": [
       "      Buraxilish ili  ActualPrice  ActualYurush\n",
       "0               1999      12500.0        366000\n",
       "1               2014      53550.0        102000\n",
       "2               2002      11700.0        469700\n",
       "3               1998       9700.0        556680\n",
       "4               2000      12700.0        300000\n",
       "...              ...          ...           ...\n",
       "1323            1996       8800.0        325000\n",
       "1324            1994       6300.0        280000\n",
       "1325            1998      10900.0        272000\n",
       "1326            2000      11300.0        207000\n",
       "1327            1996      10500.0        255700\n",
       "\n",
       "[1328 rows x 3 columns]"
      ]
     },
     "execution_count": 9,
     "metadata": {},
     "output_type": "execute_result"
    }
   ],
   "source": [
    "df"
   ]
  },
  {
   "cell_type": "code",
   "execution_count": 10,
   "id": "e3faec3e-d117-46c5-baaa-a920be8ed465",
   "metadata": {},
   "outputs": [],
   "source": [
    "df = df[['Buraxilish ili', 'ActualYurush', 'ActualPrice']].copy()"
   ]
  },
  {
   "cell_type": "code",
   "execution_count": 11,
   "id": "3832c513-1491-4ce5-b3e2-aa2340f6503c",
   "metadata": {},
   "outputs": [],
   "source": [
    "'''yurush_mean = df['ActualYurush'].mean()\n",
    "yurush_std = df['ActualYurush'].std()\n",
    "\n",
    "price_mean = df['ActualPrice'].mean()\n",
    "price_std = df['ActualPrice'].std()\n",
    "\n",
    "buraxilish_mean = df['Buraxilish ili'].mean()\n",
    "buraxilish_std = df['Buraxilish ili'].std()\n",
    "\n",
    "df_copy = df.copy()\n",
    "df['ActualYurush'] = (df['ActualYurush'] - yurush_mean)/ (yurush_std)\n",
    "df['ActualPrice'] = (df['ActualPrice'] - price_mean)/(price_std)\n",
    "df['Buraxilish ili'] = (df['Buraxilish ili'] - buraxilish_mean)/(buraxilish_std)\n",
    "'''\n",
    "X = df[['Buraxilish ili', 'ActualYurush']]\n",
    "y = df['ActualPrice']"
   ]
  },
  {
   "cell_type": "code",
   "execution_count": null,
   "id": "c9f578d0-c4ed-428c-ae63-a204fe2c9c1e",
   "metadata": {},
   "outputs": [],
   "source": []
  },
  {
   "cell_type": "code",
   "execution_count": 12,
   "id": "a1daaa04-c615-40e1-9b2c-1a9b86ba1dc0",
   "metadata": {},
   "outputs": [
    {
     "data": {
      "text/plain": [
       "(1328, 2)"
      ]
     },
     "execution_count": 12,
     "metadata": {},
     "output_type": "execute_result"
    }
   ],
   "source": [
    "X.shape"
   ]
  },
  {
   "cell_type": "code",
   "execution_count": 158,
   "id": "907d22e7-46a7-4219-9d67-dd9782fd34e9",
   "metadata": {},
   "outputs": [],
   "source": [
    "class LinearRegression1:\n",
    "    def __init__(self, alpha=0.1, n_iter = 1000, normalize = True):\n",
    "        self.alpha = alpha\n",
    "        self.n_iter = n_iter\n",
    "        self.coef_ = None\n",
    "        self.normalize = normalize \n",
    "        self.bias = None\n",
    "    def costFunction(self,X, Y, W):\n",
    "        return np.sum((X.dot(W) - Y)**2)/(2*len(X))\n",
    "\n",
    "    def _standardize(self, X):\n",
    "        self.mean_ = np.array(X.mean(axis = 0))\n",
    "        self.std_ = np.array(X.std(axis = 0))\n",
    "        self.std_[self.std_ == 0] = 1 #note: prevent division by zero\n",
    "        return (X - self.mean_)/self.std_\n",
    "        \n",
    "    def fit(self, X, Y):\n",
    "        if self.normalize == True:\n",
    "            X = self._standardize(X)\n",
    "        X_ = np.c_[np.ones(len(X)), X]\n",
    "        W = np.array([random.randint(1, 100)] * X_.shape[1])\n",
    "\n",
    "        for i in range(self.n_iter):\n",
    "            h = X_.dot(W)\n",
    "            diff = (h-Y)\n",
    "            gradient = self.alpha *(X_.T.dot(diff))/X.shape[0]\n",
    "            W = W - gradient\n",
    "        self.coef_ = W[1:]\n",
    "        self.bias = W[0]\n",
    "    def predict(self, X):\n",
    "        X = np.array(X, dtype = float)\n",
    "\n",
    "        if X.ndim == 1:\n",
    "            X = X.reshape(1,-1)\n",
    "\n",
    "        if self.normalize:\n",
    "            \n",
    "            X = (X - self.mean_)/self.std_\n",
    "        #X = np.c_[np.ones(X.shape[0], X)]\n",
    "        predicted = np.dot(X, self.coef_) + self.bias\n",
    "        return np.round(predicted, 5)"
   ]
  },
  {
   "cell_type": "code",
   "execution_count": 160,
   "id": "6ee8b4df-c213-42cf-b3ce-fa21885b5f63",
   "metadata": {},
   "outputs": [],
   "source": [
    "model = LinearRegression1()"
   ]
  },
  {
   "cell_type": "code",
   "execution_count": 162,
   "id": "95935a83-63e0-487d-b3d6-d9762b9b2d47",
   "metadata": {},
   "outputs": [],
   "source": [
    "model.fit(X,y)"
   ]
  },
  {
   "cell_type": "code",
   "execution_count": 163,
   "id": "238f617d-0d5c-4eea-8782-2e1c4f3c8890",
   "metadata": {},
   "outputs": [
    {
     "data": {
      "text/plain": [
       "array([11341.6889984 , -1274.18127327])"
      ]
     },
     "execution_count": 163,
     "metadata": {},
     "output_type": "execute_result"
    }
   ],
   "source": [
    "model.coef_"
   ]
  },
  {
   "cell_type": "code",
   "execution_count": 166,
   "id": "dcf7e36c-f157-4e63-875a-18c8addcf690",
   "metadata": {},
   "outputs": [
    {
     "data": {
      "text/plain": [
       "array([60681.3847])"
      ]
     },
     "execution_count": 166,
     "metadata": {},
     "output_type": "execute_result"
    }
   ],
   "source": [
    "model.predict([[2020, 22342]])"
   ]
  },
  {
   "cell_type": "code",
   "execution_count": null,
   "id": "30a63fbd-b105-4501-b467-01c6edc13dea",
   "metadata": {},
   "outputs": [],
   "source": []
  },
  {
   "cell_type": "code",
   "execution_count": null,
   "id": "2a12d403-6c21-4ceb-833b-a63ec316eadf",
   "metadata": {},
   "outputs": [],
   "source": []
  }
 ],
 "metadata": {
  "kernelspec": {
   "display_name": "Python [conda env:base] *",
   "language": "python",
   "name": "conda-base-py"
  },
  "language_info": {
   "codemirror_mode": {
    "name": "ipython",
    "version": 3
   },
   "file_extension": ".py",
   "mimetype": "text/x-python",
   "name": "python",
   "nbconvert_exporter": "python",
   "pygments_lexer": "ipython3",
   "version": "3.12.7"
  }
 },
 "nbformat": 4,
 "nbformat_minor": 5
}
