{
 "cells": [
  {
   "cell_type": "code",
   "execution_count": 15,
   "id": "d8516554-67ac-408b-a212-3c8e03b864df",
   "metadata": {},
   "outputs": [],
   "source": [
    "import re\n",
    "def clean_text(text):\n",
    "    text = text.lower()\n",
    "    text = re.sub(r\"http\\S+\", \"\", text)  # remove URLs\n",
    "    text = re.sub(r\"[^a-z\\s]\", \"\", text)  # remove punctuation/numbers\n",
    "    text = re.sub(r\"\\s+\", \" \", text).strip()\n",
    "    return text\n",
    "\n",
    "#df['text'] = (df['Title'] + \" \" + df['Article']).apply(clean_text)\n"
   ]
  },
  {
   "cell_type": "code",
   "execution_count": 19,
   "id": "280c088a-0f1c-4084-842c-394548174de3",
   "metadata": {},
   "outputs": [],
   "source": [
    "df1 = pd.read_csv('..//ML/azeri_news.csv')"
   ]
  },
  {
   "cell_type": "code",
   "execution_count": 20,
   "id": "c326b593-f243-4d3a-ab3b-a6487f4e8e37",
   "metadata": {},
   "outputs": [
    {
     "data": {
      "text/html": [
       "<div>\n",
       "<style scoped>\n",
       "    .dataframe tbody tr th:only-of-type {\n",
       "        vertical-align: middle;\n",
       "    }\n",
       "\n",
       "    .dataframe tbody tr th {\n",
       "        vertical-align: top;\n",
       "    }\n",
       "\n",
       "    .dataframe thead th {\n",
       "        text-align: right;\n",
       "    }\n",
       "</style>\n",
       "<table border=\"1\" class=\"dataframe\">\n",
       "  <thead>\n",
       "    <tr style=\"text-align: right;\">\n",
       "      <th></th>\n",
       "      <th>Category</th>\n",
       "      <th>Title</th>\n",
       "      <th>News_Article</th>\n",
       "    </tr>\n",
       "  </thead>\n",
       "  <tbody>\n",
       "    <tr>\n",
       "      <th>0</th>\n",
       "      <td>Maraqlı</td>\n",
       "      <td>Naviforce Sport Saat 2016 ilə zövqlərin ahəngi</td>\n",
       "      <td>Naviforce Sport Saat 2016 Yapon Mexanizmi Yapo...</td>\n",
       "    </tr>\n",
       "    <tr>\n",
       "      <th>1</th>\n",
       "      <td>Maraqlı</td>\n",
       "      <td>Sinir ,oynaq , sinir bel ağrılarına 3 gündə son !</td>\n",
       "      <td>ŞOK ! ŞOK ! ŞOK ! Xanımlar və bəylər , bel və ...</td>\n",
       "    </tr>\n",
       "    <tr>\n",
       "      <th>2</th>\n",
       "      <td>Maraqlı</td>\n",
       "      <td>Dəyərindən qat-qat aşağı qiymətə Mənzil</td>\n",
       "      <td>Dəyərindən qat-qat Aşağı Qiymətə. Həzi Aslanov...</td>\n",
       "    </tr>\n",
       "    <tr>\n",
       "      <th>3</th>\n",
       "      <td>İdman</td>\n",
       "      <td>2024 və 2028-ci il olimpiadalarının keçiriləcə...</td>\n",
       "      <td>2028-ci il Yay Olimpiya və Paralimpiya Oyunla...</td>\n",
       "    </tr>\n",
       "    <tr>\n",
       "      <th>4</th>\n",
       "      <td>Dünya</td>\n",
       "      <td>Türkiyədə zəlzələ</td>\n",
       "      <td>Türkiyədə daha bir zəlzələ meydana gəlib.   L...</td>\n",
       "    </tr>\n",
       "    <tr>\n",
       "      <th>...</th>\n",
       "      <td>...</td>\n",
       "      <td>...</td>\n",
       "      <td>...</td>\n",
       "    </tr>\n",
       "    <tr>\n",
       "      <th>49995</th>\n",
       "      <td>Siyasət</td>\n",
       "      <td>Əli Kərimli terrorçularla da əməkdaşlığa hazır...</td>\n",
       "      <td>AXCP sədri \"Milli Şura\"nın mitinqində qəsdən...</td>\n",
       "    </tr>\n",
       "    <tr>\n",
       "      <th>49996</th>\n",
       "      <td>Siyasət</td>\n",
       "      <td>Elşən Musayev: “Bəlkə elə o terrorist Əli Kəri...</td>\n",
       "      <td>\"Ümumiyyətlə, Milli Şuraya xoş olan, hətta o...</td>\n",
       "    </tr>\n",
       "    <tr>\n",
       "      <th>49997</th>\n",
       "      <td>Dünya</td>\n",
       "      <td>İstanbulda 52 mərtəbəli binada yanğın baş verib</td>\n",
       "      <td>Türkiyənin İstanbul şəhərinin Ataşehir rayon...</td>\n",
       "    </tr>\n",
       "    <tr>\n",
       "      <th>49998</th>\n",
       "      <td>Dünya</td>\n",
       "      <td>“Onlar cinayətkarlardır və bir-bir məhv edilir...</td>\n",
       "      <td>Rusiyanı tərk edərək İŞİD sıralarında döyüşə...</td>\n",
       "    </tr>\n",
       "    <tr>\n",
       "      <th>49999</th>\n",
       "      <td>İqtisadiyyat</td>\n",
       "      <td>Ukrayna Mərkəzi Bankı gözlənilmədən uçot dərəc...</td>\n",
       "      <td>Ukrayna Mərkəzi Bankı (NBU) bu gün keçirdiyi ...</td>\n",
       "    </tr>\n",
       "  </tbody>\n",
       "</table>\n",
       "<p>50000 rows × 3 columns</p>\n",
       "</div>"
      ],
      "text/plain": [
       "           Category                                              Title  \\\n",
       "0           Maraqlı     Naviforce Sport Saat 2016 ilə zövqlərin ahəngi   \n",
       "1           Maraqlı  Sinir ,oynaq , sinir bel ağrılarına 3 gündə son !   \n",
       "2           Maraqlı            Dəyərindən qat-qat aşağı qiymətə Mənzil   \n",
       "3             İdman  2024 və 2028-ci il olimpiadalarının keçiriləcə...   \n",
       "4             Dünya                                 Türkiyədə zəlzələ    \n",
       "...             ...                                                ...   \n",
       "49995       Siyasət  Əli Kərimli terrorçularla da əməkdaşlığa hazır...   \n",
       "49996       Siyasət  Elşən Musayev: “Bəlkə elə o terrorist Əli Kəri...   \n",
       "49997         Dünya    İstanbulda 52 mərtəbəli binada yanğın baş verib   \n",
       "49998         Dünya  “Onlar cinayətkarlardır və bir-bir məhv edilir...   \n",
       "49999  İqtisadiyyat  Ukrayna Mərkəzi Bankı gözlənilmədən uçot dərəc...   \n",
       "\n",
       "                                            News_Article  \n",
       "0      Naviforce Sport Saat 2016 Yapon Mexanizmi Yapo...  \n",
       "1      ŞOK ! ŞOK ! ŞOK ! Xanımlar və bəylər , bel və ...  \n",
       "2      Dəyərindən qat-qat Aşağı Qiymətə. Həzi Aslanov...  \n",
       "3       2028-ci il Yay Olimpiya və Paralimpiya Oyunla...  \n",
       "4       Türkiyədə daha bir zəlzələ meydana gəlib.   L...  \n",
       "...                                                  ...  \n",
       "49995    AXCP sədri \"Milli Şura\"nın mitinqində qəsdən...  \n",
       "49996    \"Ümumiyyətlə, Milli Şuraya xoş olan, hətta o...  \n",
       "49997    Türkiyənin İstanbul şəhərinin Ataşehir rayon...  \n",
       "49998    Rusiyanı tərk edərək İŞİD sıralarında döyüşə...  \n",
       "49999   Ukrayna Mərkəzi Bankı (NBU) bu gün keçirdiyi ...  \n",
       "\n",
       "[50000 rows x 3 columns]"
      ]
     },
     "execution_count": 20,
     "metadata": {},
     "output_type": "execute_result"
    }
   ],
   "source": [
    "df1"
   ]
  },
  {
   "cell_type": "code",
   "execution_count": 41,
   "id": "ecc4c0c3-1d69-464b-90e9-c8aacdcf5d9b",
   "metadata": {},
   "outputs": [],
   "source": [
    "import pandas as pd\n",
    "from sklearn.model_selection import train_test_split\n",
    "from sklearn.feature_extraction.text import TfidfVectorizer\n",
    "from sklearn.linear_model import LogisticRegression\n",
    "from sklearn.metrics import classification_report\n",
    "from sklearn.preprocessing import LabelEncoder\n",
    "import matplotlib.pyplot as plt\n",
    "import scipy.cluster.hierarchy as sch\n",
    "from sklearn.metrics.pairwise import cosine_distances\n",
    "import xgboost as xgb"
   ]
  },
  {
   "cell_type": "code",
   "execution_count": 31,
   "id": "e47d0171-4c0c-486e-9965-6a05970ef1aa",
   "metadata": {},
   "outputs": [],
   "source": [
    "df = pd.read_csv('..//ML/azeri_news.csv')  # Replace with your path\n",
    "df['text'] = df['Title'] + \" \" + df['News_Article']\n",
    "df.dropna(subset=['text', 'Category'], inplace=True)\n"
   ]
  },
  {
   "cell_type": "code",
   "execution_count": null,
   "id": "b21f4f28-2a5c-44ab-9000-bab90f4c608e",
   "metadata": {},
   "outputs": [],
   "source": []
  },
  {
   "cell_type": "code",
   "execution_count": 47,
   "id": "f1eaf252-4edf-401c-9ca8-03bbb43cd69c",
   "metadata": {},
   "outputs": [
    {
     "name": "stdout",
     "output_type": "stream",
     "text": [
      "              precision    recall  f1-score   support\n",
      "\n",
      "       Dünya       0.83      0.85      0.84      2745\n",
      "     Maraqlı       0.83      0.81      0.82      3172\n",
      "  Mədəniyyət       0.82      0.63      0.71       304\n",
      "     Siyasət       0.84      0.84      0.84      1269\n",
      "       İdman       0.92      0.94      0.93      1264\n",
      "İqtisadiyyat       0.84      0.89      0.86      1246\n",
      "\n",
      "    accuracy                           0.84     10000\n",
      "   macro avg       0.85      0.82      0.83     10000\n",
      "weighted avg       0.84      0.84      0.84     10000\n",
      "\n"
     ]
    }
   ],
   "source": [
    "\n",
    "# Step 1: N-gram TF-IDF Vectorizer (1 to 3-grams)\n",
    "vectorizer = TfidfVectorizer(ngram_range=(1, 3), max_features=5000)\n",
    "X = vectorizer.fit_transform(df['text'])\n",
    "\n",
    "# Step 2: Encode categories\n",
    "le = LabelEncoder()\n",
    "y = le.fit_transform(df['Category'])\n",
    "\n",
    "# Step 3: Classification\n",
    "\n",
    "X_train, X_test, y_train, y_test = train_test_split(X, y, test_size=0.2, random_state=42)\n",
    "clf = LogisticRegression(max_iter=2500)\n",
    "clf.fit(X_train, y_train)\n",
    "y_pred = clf.predict(X_test)\n",
    "\n",
    "'''\n",
    "X_train_dense = X_train.toarray()\n",
    "X_test_dense = X_test.toarray()\n",
    "\n",
    "# Create and train XGBoost model\n",
    "model = xgb.XGBClassifier(\n",
    "    objective='multi:softmax',\n",
    "    num_class=len(le.classes_),\n",
    "    eval_metric='mlogloss',\n",
    "    n_estimators=300,\n",
    "    max_depth=6,\n",
    "    learning_rate=0.1\n",
    ")\n",
    "\n",
    "model.fit(X_train_dense, y_train)\n",
    "\n",
    "# Predict\n",
    "y_pred = model.predict(X_test_dense)\n",
    "'''\n",
    "# Step 4: Report\n",
    "print(classification_report(y_test, y_pred, target_names=le.classes_))"
   ]
  },
  {
   "cell_type": "code",
   "execution_count": 35,
   "id": "926b5464-ab57-4b2e-a5c6-f5a96004b7b5",
   "metadata": {},
   "outputs": [
    {
     "name": "stderr",
     "output_type": "stream",
     "text": [
      "C:\\Users\\ehmed\\AppData\\Local\\Temp\\ipykernel_17976\\2493961973.py:10: ClusterWarning: The symmetric non-negative hollow observation matrix looks suspiciously like an uncondensed distance matrix\n",
      "  linkage = sch.linkage(distance_matrix, method='ward')\n"
     ]
    },
    {
     "data": {
      "image/png": "[encoded data removed]",
      "text/plain": [
       "<Figure size 1200x600 with 1 Axes>"
      ]
     },
     "metadata": {},
     "output_type": "display_data"
    }
   ],
   "source": [
    "sample_indices = df.sample(30, random_state=42).index\n",
    "X_sample = X[sample_indices]\n",
    "labels = df.loc[sample_indices, 'Category'].values\n",
    "\n",
    "# Calculate distance matrix using cosine distance\n",
    "distance_matrix = cosine_distances(X_sample)\n",
    "\n",
    "# Plot dendrogram\n",
    "plt.figure(figsize=(12, 6))\n",
    "linkage = sch.linkage(distance_matrix, method='ward')\n",
    "sch.dendrogram(linkage, labels=labels, leaf_rotation=90)\n",
    "plt.title(\"Dendrogram of News Articles (30 sample)\")\n",
    "plt.xlabel(\"Article\")\n",
    "plt.ylabel(\"Distance\")\n",
    "plt.show()"
   ]
  },
  {
   "cell_type": "code",
   "execution_count": 49,
   "id": "1ea7a5b3-beca-4247-a3e4-e8d73b7ba686",
   "metadata": {},
   "outputs": [
    {
     "data": {
      "text/plain": [
       "['label_encoder.pkl']"
      ]
     },
     "execution_count": 49,
     "metadata": {},
     "output_type": "execute_result"
    }
   ],
   "source": [
    "import joblib\n",
    "\n",
    "joblib.dump(clf, \"news_model.pkl\")\n",
    "joblib.dump(vectorizer, \"tfidf_vectorizer.pkl\")\n",
    "joblib.dump(le, \"label_encoder.pkl\")\n"
   ]
  },
  {
   "cell_type": "code",
   "execution_count": 70,
   "id": "891ba82e-652f-4099-8a74-a773740b756b",
   "metadata": {},
   "outputs": [
    {
     "name": "stdout",
     "output_type": "stream",
     "text": [
      "📰 Xəbər kateqoriyası Chatbotuna xoş gəlmisiniz! Çıxmaq üçün 'quit' yazın.\n",
      "\n"
     ]
    },
    {
     "name": "stdin",
     "output_type": "stream",
     "text": [
      "Başlıq:  Olimpiyanın keçirilməsi\n",
      "Məqalə:  Yay olimpiya oyunları 2024 2028 oyunları\n"
     ]
    },
    {
     "name": "stdout",
     "output_type": "stream",
     "text": [
      "🤖 Təxmin edilən kateqoriya: İdman\n",
      "\n"
     ]
    },
    {
     "name": "stdin",
     "output_type": "stream",
     "text": [
      "Başlıq:  quit\n"
     ]
    },
    {
     "name": "stdout",
     "output_type": "stream",
     "text": [
      "Chatbotdan çıxdınız. Sağ olun!\n"
     ]
    }
   ],
   "source": [
    "import joblib\n",
    "import re\n",
    "\n",
    "# Load model components\n",
    "model = joblib.load(\"news_model.pkl\")\n",
    "vectorizer = joblib.load(\"tfidf_vectorizer.pkl\")\n",
    "label_encoder = joblib.load(\"label_encoder.pkl\")\n",
    "\n",
    "def clean_text(text):\n",
    "    text = str(text).lower()\n",
    "    text = re.sub(r\"http\\S+\", \"\", text)\n",
    "    text = re.sub(r\"[^a-zA-ZəöüğışçƏÖĞÜŞİÇ\\s]\", \"\", text)\n",
    "    text = re.sub(r\"\\s+\", \" \", text).strip()\n",
    "    return text\n",
    "\n",
    "def predict_category(title, article):\n",
    "    full_text = title + \" \" + clean_text(article)\n",
    "    X = vectorizer.transform([full_text])\n",
    "    pred = model.predict(X)[0]\n",
    "    category = label_encoder.inverse_transform([pred])[0]\n",
    "    return category\n",
    "\n",
    "def chatbot():\n",
    "    print(\"📰 Xəbər kateqoriyası Chatbotuna xoş gəlmisiniz! Çıxmaq üçün 'quit' yazın.\\n\")\n",
    "    while True:\n",
    "        title = input(\"Başlıq: \")\n",
    "        if title.lower() == 'quit':\n",
    "            print(\"Chatbotdan çıxdınız. Sağ olun!\")\n",
    "            break\n",
    "        article = input(\"Məqalə: \")\n",
    "        if article.lower() == 'quit':\n",
    "            print(\"Chatbotdan çıxdınız. Sağ olun!\")\n",
    "            break\n",
    "\n",
    "        category = predict_category(title, article)\n",
    "        print(f\"🤖 Təxmin edilən kateqoriya: {category}\\n\")\n",
    "\n",
    "if __name__ == \"__main__\":\n",
    "    chatbot()\n"
   ]
  },
  {
   "cell_type": "code",
   "execution_count": 74,
   "id": "ea7a20b2-91b1-42c9-96fb-ae361fdb2359",
   "metadata": {},
   "outputs": [
    {
     "data": {
      "text/plain": [
       "'İstanbulda 52 mərtəbəli binada yanğın baş verib   Türkiyənin İstanbul şəhərinin Ataşehir rayonunda 52 mərtəbəli binada yanğın baş verib. \"Habertürk\" yazır ki, yanğın binanın 15-ci mərtəbəsində qeydə alınıb.\\xa0Əsasən ofislərin yerləşdiyi binanın aşağı mərtəbəsindəkilər təxliyə olunub. Yanğının havalandırma sistemində qaynaq işləri görülərkən baş verdiyi bildirilir. Hadisə nəticəsində xəsarət alan olmayıb. Yanğının binadakı ağıllı söndürmə sistemi sayəsində qarşısı alındığı deyilir.  '"
      ]
     },
     "execution_count": 74,
     "metadata": {},
     "output_type": "execute_result"
    }
   ],
   "source": [
    "df.iloc[49997].text\n"
   ]
  },
  {
   "cell_type": "code",
   "execution_count": null,
   "id": "0e7f1801-3236-4e36-bd1e-d3854158d204",
   "metadata": {},
   "outputs": [],
   "source": []
  }
 ],
 "metadata": {
  "kernelspec": {
   "display_name": "Python [conda env:base] *",
   "language": "python",
   "name": "conda-base-py"
  },
  "language_info": {
   "codemirror_mode": {
    "name": "ipython",
    "version": 3
   },
   "file_extension": ".py",
   "mimetype": "text/x-python",
   "name": "python",
   "nbconvert_exporter": "python",
   "pygments_lexer": "ipython3",
   "version": "3.12.7"
  }
 },
 "nbformat": 4,
 "nbformat_minor": 5
}
